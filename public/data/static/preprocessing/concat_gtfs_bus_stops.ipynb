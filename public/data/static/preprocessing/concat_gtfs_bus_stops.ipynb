{
 "cells": [
  {
   "cell_type": "code",
   "execution_count": 21,
   "id": "9d41a977",
   "metadata": {},
   "outputs": [],
   "source": [
    "import geopandas as gpd \n",
    "import pandas as pd \n",
    "from glob import glob "
   ]
  },
  {
   "cell_type": "code",
   "execution_count": 22,
   "id": "0b002904",
   "metadata": {},
   "outputs": [],
   "source": [
    "bus_stops_nyc = pd.concat([pd.read_csv(f) for f in glob(\"../gtfs/*/stops.txt\")])"
   ]
  },
  {
   "cell_type": "code",
   "execution_count": null,
   "id": "f00fe5a5",
   "metadata": {},
   "outputs": [],
   "source": [
    "bus_routes_nyc = pd.concat"
   ]
  },
  {
   "cell_type": "code",
   "execution_count": 23,
   "id": "e67cae24",
   "metadata": {},
   "outputs": [
    {
     "data": {
      "text/plain": [
       "stop_id               0\n",
       "stop_name             0\n",
       "stop_desc         12408\n",
       "stop_lat              0\n",
       "stop_lon              0\n",
       "zone_id           15960\n",
       "stop_url          15960\n",
       "location_type      3552\n",
       "parent_station    15960\n",
       "dtype: int64"
      ]
     },
     "execution_count": 23,
     "metadata": {},
     "output_type": "execute_result"
    }
   ],
   "source": [
    "bus_stops_nyc.isna().sum()"
   ]
  },
  {
   "cell_type": "code",
   "execution_count": 24,
   "id": "b3119895",
   "metadata": {},
   "outputs": [],
   "source": [
    "# drop cols with nas \n",
    "bus_stops_nyc = bus_stops_nyc.dropna(axis=1, how='all')\n",
    "# drop 'location_type', and 'stop_desc'\n",
    "bus_stops_nyc = bus_stops_nyc.drop(columns=['location_type', 'stop_desc'])\n"
   ]
  },
  {
   "cell_type": "code",
   "execution_count": 26,
   "id": "8924c304",
   "metadata": {},
   "outputs": [],
   "source": [
    "# convert to geodataframe\n",
    "bus_stops_nyc = gpd.GeoDataFrame(\n",
    "    bus_stops_nyc, \n",
    "    geometry=gpd.points_from_xy(bus_stops_nyc.stop_lon, bus_stops_nyc.stop_lat),\n",
    "    crs=\"EPSG:4326\"\n",
    ")"
   ]
  },
  {
   "cell_type": "code",
   "execution_count": 27,
   "id": "e76eb5d6",
   "metadata": {},
   "outputs": [],
   "source": [
    "# write to geojson\n",
    "bus_stops_nyc.to_file(\"../gtfs/bus_stops_nyc.geojson\", driver='GeoJSON')"
   ]
  },
  {
   "cell_type": "code",
   "execution_count": null,
   "id": "613bd693",
   "metadata": {},
   "outputs": [],
   "source": []
  }
 ],
 "metadata": {
  "kernelspec": {
   "display_name": "untaped",
   "language": "python",
   "name": "python3"
  },
  "language_info": {
   "codemirror_mode": {
    "name": "ipython",
    "version": 3
   },
   "file_extension": ".py",
   "mimetype": "text/x-python",
   "name": "python",
   "nbconvert_exporter": "python",
   "pygments_lexer": "ipython3",
   "version": "3.12.9"
  }
 },
 "nbformat": 4,
 "nbformat_minor": 5
}
