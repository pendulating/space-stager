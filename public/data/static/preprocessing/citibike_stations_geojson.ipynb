{
 "cells": [
  {
   "cell_type": "code",
   "execution_count": 10,
   "id": "9d41a977",
   "metadata": {},
   "outputs": [],
   "source": [
    "import geopandas as gpd \n",
    "import pandas as pd \n",
    "from glob import glob "
   ]
  },
  {
   "cell_type": "code",
   "execution_count": 11,
   "id": "613bd693",
   "metadata": {},
   "outputs": [],
   "source": [
    "citibike_stations = pd.read_json('../citibike_stations/stations_culled.json')"
   ]
  },
  {
   "cell_type": "code",
   "execution_count": 12,
   "id": "6fc51ceb",
   "metadata": {},
   "outputs": [],
   "source": [
    "# trim lat and lon to 5 decimal places \n",
    "citibike_stations['lat'] = citibike_stations['lat'].round(5)\n",
    "citibike_stations['lon'] = citibike_stations['lon'].round(5)\n"
   ]
  },
  {
   "cell_type": "code",
   "execution_count": 13,
   "id": "25895e52",
   "metadata": {},
   "outputs": [],
   "source": [
    "citibike_stations = gpd.GeoDataFrame(citibike_stations, geometry=gpd.points_from_xy(citibike_stations.lon, citibike_stations.lat), crs='EPSG:4326')"
   ]
  },
  {
   "cell_type": "code",
   "execution_count": 14,
   "id": "9e2a0b42",
   "metadata": {},
   "outputs": [],
   "source": [
    "# drop lat and lon and set index to short_name \n",
    "citibike_stations = citibike_stations.drop(columns=['lat', 'lon']).set_index('short_name', drop=True)"
   ]
  },
  {
   "cell_type": "code",
   "execution_count": 15,
   "id": "10f5f142",
   "metadata": {},
   "outputs": [],
   "source": [
    "# SANITY CHECK: is index unique? \n",
    "assert citibike_stations.index.is_unique, \"Index is not unique\""
   ]
  },
  {
   "cell_type": "code",
   "execution_count": 16,
   "id": "1b85d231",
   "metadata": {},
   "outputs": [],
   "source": [
    "# write to geojson \n",
    "citibike_stations.to_file('../citibike_stations/citibike_stations.geojson', driver='GeoJSON')"
   ]
  },
  {
   "cell_type": "code",
   "execution_count": null,
   "id": "6259b932",
   "metadata": {},
   "outputs": [],
   "source": []
  }
 ],
 "metadata": {
  "kernelspec": {
   "display_name": "gtfs-gnn",
   "language": "python",
   "name": "python3"
  },
  "language_info": {
   "codemirror_mode": {
    "name": "ipython",
    "version": 3
   },
   "file_extension": ".py",
   "mimetype": "text/x-python",
   "name": "python",
   "nbconvert_exporter": "python",
   "pygments_lexer": "ipython3",
   "version": "3.11.10"
  }
 },
 "nbformat": 4,
 "nbformat_minor": 5
}
